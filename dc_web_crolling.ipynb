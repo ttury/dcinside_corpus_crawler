{
  "nbformat": 4,
  "nbformat_minor": 0,
  "metadata": {
    "colab": {
      "name": "dc_web_crolling.ipynb",
      "provenance": [],
      "collapsed_sections": [],
      "authorship_tag": "ABX9TyMir0IY6SoezqOiKdDJRklE",
      "include_colab_link": true
    },
    "kernelspec": {
      "name": "python3",
      "display_name": "Python 3"
    },
    "language_info": {
      "name": "python"
    }
  },
  "cells": [
    {
      "cell_type": "markdown",
      "metadata": {
        "id": "view-in-github",
        "colab_type": "text"
      },
      "source": [
        "<a href=\"https://colab.research.google.com/github/ttury/dcinside_corpus_croller/blob/main/dc_web_crolling.ipynb\" target=\"_parent\"><img src=\"https://colab.research.google.com/assets/colab-badge.svg\" alt=\"Open In Colab\"/></a>"
      ]
    },
    {
      "cell_type": "code",
      "metadata": {
        "colab": {
          "base_uri": "https://localhost:8080/",
          "height": 244
        },
        "id": "-Uv2Sr4AEj1Y",
        "outputId": "2090962e-c95a-4bcc-b74e-b75012ababeb"
      },
      "source": [
        "import requests\n",
        "from urllib import request\n",
        "from bs4 import BeautifulSoup\n",
        "import time\n",
        "\n",
        "BASE_URL = \"https://gall.dcinside.com/board/lists\"\n",
        "ARTICLE_BASE_URL = \"https://gall.dcinside.com\"\n",
        "BASE_URL_MOBILE = \"https://m.dcinside.com/board/maplestory/\"\n",
        "\n",
        "# 헤더 설정\n",
        "headers = {\n",
        "    \"User-Agent\" : \"Monika (Android; Hello_world)\",\n",
        "    }\n",
        "\n",
        "#몇 페이지부터 몇 페이지까지\n",
        "for i in range(1, 10):\n",
        "  # 파라미터 설정\n",
        "  params = {'id': 'maplestory','page':i}\n",
        "  # response = requests.get(BASE_URL, params=params, headers=headers)\n",
        "  response = requests.get(BASE_URL_MOBILE, headers=headers)\n",
        "  soup = BeautifulSoup(response.content, 'html.parser')\n",
        "  #실질적 글 목록 부분\n",
        "  article_list = soup.find('tbody').find_all('tr')\n",
        "  # 한 페이지에 있는 모든 게시물을 긁어오는 코드\n",
        "  for tr_item in article_list:\n",
        "    print('+'*12)\n",
        "    # 제목 추출\n",
        "    title_tag = tr_item.find('a', href=True)\n",
        "    title = title_tag.text\n",
        "    print(\"제목: \", title)\n",
        "    print(\"주소: \", title_tag['href'])\n",
        "    # article_response = requests.get(ARTICLE_BASE_URL + title_tag['href'], headers=headers)"
      ],
      "execution_count": null,
      "outputs": [
        {
          "output_type": "error",
          "ename": "AttributeError",
          "evalue": "ignored",
          "traceback": [
            "\u001b[0;31m---------------------------------------------------------------------------\u001b[0m",
            "\u001b[0;31mAttributeError\u001b[0m                            Traceback (most recent call last)",
            "\u001b[0;32m<ipython-input-17-570f6a237214>\u001b[0m in \u001b[0;36m<module>\u001b[0;34m()\u001b[0m\n\u001b[1;32m     33\u001b[0m   \u001b[0msoup\u001b[0m \u001b[0;34m=\u001b[0m \u001b[0mBeautifulSoup\u001b[0m\u001b[0;34m(\u001b[0m\u001b[0mresponse\u001b[0m\u001b[0;34m.\u001b[0m\u001b[0mcontent\u001b[0m\u001b[0;34m,\u001b[0m \u001b[0;34m'html.parser'\u001b[0m\u001b[0;34m)\u001b[0m\u001b[0;34m\u001b[0m\u001b[0;34m\u001b[0m\u001b[0m\n\u001b[1;32m     34\u001b[0m   \u001b[0;31m#실질적 글 목록 부분\u001b[0m\u001b[0;34m\u001b[0m\u001b[0;34m\u001b[0m\u001b[0;34m\u001b[0m\u001b[0m\n\u001b[0;32m---> 35\u001b[0;31m   \u001b[0marticle_list\u001b[0m \u001b[0;34m=\u001b[0m \u001b[0msoup\u001b[0m\u001b[0;34m.\u001b[0m\u001b[0mfind\u001b[0m\u001b[0;34m(\u001b[0m\u001b[0;34m'tbody'\u001b[0m\u001b[0;34m)\u001b[0m\u001b[0;34m.\u001b[0m\u001b[0mfind_all\u001b[0m\u001b[0;34m(\u001b[0m\u001b[0;34m'tr'\u001b[0m\u001b[0;34m)\u001b[0m\u001b[0;34m\u001b[0m\u001b[0;34m\u001b[0m\u001b[0m\n\u001b[0m\u001b[1;32m     36\u001b[0m   \u001b[0;31m# 한 페이지에 있는 모든 게시물을 긁어오는 코드\u001b[0m\u001b[0;34m\u001b[0m\u001b[0;34m\u001b[0m\u001b[0;34m\u001b[0m\u001b[0m\n\u001b[1;32m     37\u001b[0m   \u001b[0;32mfor\u001b[0m \u001b[0mtr_item\u001b[0m \u001b[0;32min\u001b[0m \u001b[0marticle_list\u001b[0m\u001b[0;34m:\u001b[0m\u001b[0;34m\u001b[0m\u001b[0;34m\u001b[0m\u001b[0m\n",
            "\u001b[0;31mAttributeError\u001b[0m: 'NoneType' object has no attribute 'find_all'"
          ]
        }
      ]
    },
    {
      "cell_type": "code",
      "metadata": {
        "id": "l5ItmtuCKVJY"
      },
      "source": [
        ""
      ],
      "execution_count": null,
      "outputs": []
    }
  ]
}